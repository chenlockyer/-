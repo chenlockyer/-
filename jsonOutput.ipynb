{
 "cells": [
  {
   "cell_type": "code",
   "execution_count": 1,
   "metadata": {},
   "outputs": [],
   "source": [
    "import requests\n",
    "import json\n",
    "\n",
    "API_KEY = \"Q02Na6GOdsZLixhOFcEjeRa1\"\n",
    "SECRET_KEY = \"v2w61LHsogLzsJXThxl0A92wpEgz6Nko\"\n",
    "\n",
    "\n",
    "def main(cat, review):\n",
    "\n",
    "    url = (\n",
    "        \"https://aip.baidubce.com/rpc/2.0/ai_custom/v1/wenxinworkshop/chat/ernie-speed-128k?access_token=https://aip.baidubce.com/rpc/2.0/ai_custom/v1/wenxinworkshop/chat/ernie-speed-128k?access_token=\"\n",
    "        + get_access_token()\n",
    "    )\n",
    "\n",
    "    payload = json.dumps(\n",
    "        {\n",
    "            \"messages\": [\n",
    "                {\n",
    "                    \"role\": \"user\",\n",
    "                    \"content\": f\"以下是在线购物平台对于商品{cat}的评论。请你根据以下评论，判断是正向评价还是负向评价，你只需要回答“正向”或者“负向”，不需要说明理由。{review}\",\n",
    "                },\n",
    "            ]\n",
    "        }\n",
    "    )\n",
    "    headers = {\"Content-Type\": \"application/json\"}\n",
    "\n",
    "    response = requests.request(\"POST\", url, headers=headers, data=payload)\n",
    "\n",
    "    return response\n",
    "    # print(response.text)\n",
    "\n",
    "\n",
    "def get_access_token():\n",
    "    \"\"\"\n",
    "    使用 AK，SK 生成鉴权签名（Access Token）\n",
    "    :return: access_token，或是None(如果错误)\n",
    "    \"\"\"\n",
    "    url = \"https://aip.baidubce.com/oauth/2.0/token\"\n",
    "    params = {\n",
    "        \"grant_type\": \"client_credentials\",\n",
    "        \"client_id\": API_KEY,\n",
    "        \"client_secret\": SECRET_KEY,\n",
    "    }\n",
    "    return str(requests.post(url, params=params).json().get(\"access_token\"))"
   ]
  },
  {
   "cell_type": "code",
   "execution_count": 7,
   "metadata": {},
   "outputs": [
    {
     "name": "stderr",
     "output_type": "stream",
     "text": [
      "<>:32: SyntaxWarning: invalid escape sequence '\\o'\n",
      "<>:32: SyntaxWarning: invalid escape sequence '\\o'\n",
      "C:\\Users\\11051\\AppData\\Local\\Temp\\ipykernel_19472\\3811227421.py:32: SyntaxWarning: invalid escape sequence '\\o'\n",
      "  pd_all = pd.read_csv(\".\\online_shopping_10_cats.csv\")\n"
     ]
    },
    {
     "name": "stdout",
     "output_type": "stream",
     "text": [
      "评论数目（总体）：62774\n",
      "评论数目（正向）：31728\n",
      "评论数目（负向）：31046\n",
      "评论数目（总体）：1000\n",
      "评论数目（正向）：500\n",
      "评论数目（负向）：500\n"
     ]
    },
    {
     "name": "stderr",
     "output_type": "stream",
     "text": [
      " 60%|██████    | 604/1000 [08:50<05:37,  1.17it/s]"
     ]
    },
    {
     "name": "stdout",
     "output_type": "stream",
     "text": [
      "无法检测立场，跳过此条记录： 中性或中立。\n"
     ]
    },
    {
     "name": "stderr",
     "output_type": "stream",
     "text": [
      " 76%|███████▌  | 760/1000 [11:04<03:02,  1.32it/s]"
     ]
    },
    {
     "name": "stdout",
     "output_type": "stream",
     "text": [
      "无法检测立场，跳过此条记录： 无法确定。\n"
     ]
    },
    {
     "name": "stderr",
     "output_type": "stream",
     "text": [
      " 93%|█████████▎| 932/1000 [13:27<00:54,  1.26it/s]"
     ]
    },
    {
     "name": "stdout",
     "output_type": "stream",
     "text": [
      "无法检测立场，跳过此条记录： 作为一个人工智能语言模型，我还没学习如何回答这个问题，您可以向我问一些其它的问题，我会尽力帮您解决的。\n"
     ]
    },
    {
     "name": "stderr",
     "output_type": "stream",
     "text": [
      " 96%|█████████▌| 960/1000 [13:49<00:31,  1.26it/s]"
     ]
    },
    {
     "name": "stdout",
     "output_type": "stream",
     "text": [
      "无法检测立场，跳过此条记录： 中性。\n"
     ]
    },
    {
     "name": "stderr",
     "output_type": "stream",
     "text": [
      "100%|██████████| 1000/1000 [14:22<00:00,  1.16it/s]"
     ]
    },
    {
     "name": "stdout",
     "output_type": "stream",
     "text": [
      "总评论数: 996\n",
      "命中数: 924\n",
      "正确率: 92.77%\n"
     ]
    },
    {
     "name": "stderr",
     "output_type": "stream",
     "text": [
      "\n"
     ]
    }
   ],
   "source": [
    "import json\n",
    "import pandas as pd\n",
    "from tqdm import tqdm\n",
    "\n",
    "\n",
    "# 检测模型返回的立场\n",
    "def detect_stance(response_text):\n",
    "    \"\"\"\n",
    "    根据模型返回的文本检测立场\n",
    "    :param response_text: 模型返回的文本\n",
    "    :return: 0（负向）或 1（正向）\n",
    "    \"\"\"\n",
    "    if \"负向\" in response_text:\n",
    "        return 0\n",
    "    elif \"正向\" in response_text:\n",
    "        return 1\n",
    "    else:\n",
    "        return None  # 如果无法判断，返回 None\n",
    "\n",
    "\n",
    "# 保存运行数据到文件\n",
    "def save_results(data, filename):\n",
    "    \"\"\"\n",
    "    保存运行数据到 JSON 文件\n",
    "    :param data: 运行数据的字典列表\n",
    "    :param filename: 保存文件名\n",
    "    \"\"\"\n",
    "    with open(filename, \"w\", encoding=\"utf-8\") as f:\n",
    "        json.dump(data, f, ensure_ascii=False, indent=4)\n",
    "\n",
    "\n",
    "pd_all = pd.read_csv(\".\\online_shopping_10_cats.csv\")\n",
    "\n",
    "print(\"评论数目（总体）：%d\" % pd_all.shape[0])\n",
    "print(\"评论数目（正向）：%d\" % pd_all[pd_all.label == 1].shape[0])\n",
    "print(\"评论数目（负向）：%d\" % pd_all[pd_all.label == 0].shape[0])\n",
    "pd_positive = pd_all[pd_all.label == 1]\n",
    "pd_negative = pd_all[pd_all.label == 0]\n",
    "\n",
    "\n",
    "def get_balance_corpus(corpus_size, corpus_pos, corpus_neg):\n",
    "    sample_size = corpus_size // 2\n",
    "    pd_corpus_balance = pd.concat(\n",
    "        [\n",
    "            corpus_pos.sample(sample_size, replace=corpus_pos.shape[0] < sample_size),\n",
    "            corpus_neg.sample(sample_size, replace=corpus_neg.shape[0] < sample_size),\n",
    "        ]\n",
    "    )\n",
    "\n",
    "    print(\"评论数目（总体）：%d\" % pd_corpus_balance.shape[0])\n",
    "    print(\n",
    "        \"评论数目（正向）：%d\"\n",
    "        % pd_corpus_balance[pd_corpus_balance.label == 1].shape[0]\n",
    "    )\n",
    "    print(\n",
    "        \"评论数目（负向）：%d\"\n",
    "        % pd_corpus_balance[pd_corpus_balance.label == 0].shape[0]\n",
    "    )\n",
    "\n",
    "    return pd_corpus_balance\n",
    "\n",
    "\n",
    "# 加载数据集\n",
    "text_data = get_balance_corpus(1000, pd_positive, pd_negative)\n",
    "\n",
    "\n",
    "# 初始化统计变量\n",
    "total_count = 0  # 总数\n",
    "hit_count = 0  # 命中数\n",
    "results = []  # 保存每条数据的运行结果\n",
    "\n",
    "# 遍历数据集\n",
    "for index, row in tqdm(text_data.iterrows(), total=text_data.shape[0]):\n",
    "    review = row[\"review\"]  # 评论文本\n",
    "    cat = row[\"cat\"]  # 分类类别\n",
    "    true_label = row[\"label\"]  # 真实标签（0 或 1）\n",
    "\n",
    "    # 调用模型，获取响应\n",
    "    # 假设 `main(cat, review)` 是你的模型调用函数，这里仅作为占位示例\n",
    "    response = main(cat, review)  # 替换为你的模型调用代码\n",
    "    response_data = json.loads(response.text)\n",
    "\n",
    "    # 提取模型的预测结果\n",
    "    try:\n",
    "        extract_response = response_data[\"result\"]  # 模型返回的文本\n",
    "    except KeyError:\n",
    "        print(\"模型返回错误，跳过此条对话：\", response_data)\n",
    "        continue\n",
    "\n",
    "    # 检测模型预测的立场\n",
    "    model_stance = detect_stance(extract_response)\n",
    "\n",
    "    # 如果模型无法检测到立场，跳过此条记录\n",
    "    if model_stance is None:\n",
    "        print(\"无法检测立场，跳过此条记录：\", extract_response)\n",
    "        continue\n",
    "\n",
    "    # 比较模型预测和真实值\n",
    "    is_correct = model_stance == true_label\n",
    "    total_count += 1\n",
    "    if is_correct:\n",
    "        hit_count += 1\n",
    "\n",
    "    # 保存每条记录的运行数据\n",
    "    results.append(\n",
    "        {\n",
    "            \"category\": cat,\n",
    "            \"review\": review,\n",
    "            \"true_label\": true_label,\n",
    "            \"model_output\": extract_response,\n",
    "            \"detected_stance\": model_stance,\n",
    "            \"is_correct\": is_correct,\n",
    "        }\n",
    "    )\n",
    "\n",
    "# 计算正确率\n",
    "accuracy = hit_count / total_count if total_count > 0 else 0\n",
    "\n",
    "# 保存运行数据到文件\n",
    "save_results(results, \"./results.json\")\n",
    "\n",
    "# 输出统计结果\n",
    "print(f\"总评论数: {total_count}\")\n",
    "print(f\"命中数: {hit_count}\")\n",
    "print(f\"正确率: {accuracy:.2%}\")"
   ]
  }
 ],
 "metadata": {
  "kernelspec": {
   "display_name": "base",
   "language": "python",
   "name": "python3"
  },
  "language_info": {
   "codemirror_mode": {
    "name": "ipython",
    "version": 3
   },
   "file_extension": ".py",
   "mimetype": "text/x-python",
   "name": "python",
   "nbconvert_exporter": "python",
   "pygments_lexer": "ipython3",
   "version": "3.12.4"
  }
 },
 "nbformat": 4,
 "nbformat_minor": 2
}
